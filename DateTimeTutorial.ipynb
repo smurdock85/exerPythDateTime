{
 "cells": [
  {
   "cell_type": "code",
   "execution_count": null,
   "source": [
    "import datetime\n",
    "import pytz\n",
    "\n",
    "tday = datetime.date.today()\n",
    "\n",
    "datetime.timedelta(days=0, seconds=0, microseconds=0, milliseconds=0, minutes=0, hours=0, weeks=0)\n",
    "\n",
    "tdelta = datetime.timedelta(hours=12)\n",
    "\n",
    "print(tday + tdelta)\n",
    "\n",
    "date2 = date1 + timedelta\n",
    "imedelta = date1 + date2\n",
    "\n",
    "bday = datetime.date(2021, 7, 1)\n",
    "\n",
    "till_bday = bday - tday\n",
    "\n",
    "print(till_bday.days)\n",
    "\n",
    "t = datetime.time(9, 30, 45, 100000)\n",
    "\n",
    "dt = datetime.datetime.today()\n",
    "dtnow = datetime.datetime.now()\n",
    "print(dir(datetime.datetime))\n",
    "print(dt)\n",
    "print(dtnow)\n",
    "\n",
    "dt = datetime.datetime(2021, 7, 1, 12, 30, 45, tzinfo=pytz.UTC)\n",
    "print(dir(dt))\n",
    "\n",
    "dt_utcnow = datetime.datetime.now(tz=pytz.UTC)\n",
    "print(dt_utcnow)\n",
    "\n",
    "dt_utcnow2 = datetime.datetime.utcnow().replace(tzinfo=pytz.UTC)\n",
    "print(dt_utcnow2)\n",
    "\n",
    "dt_mtn = dt_utcnow.astimezone(pytz.timezone('US/Mountain'))\n",
    "print(dt_mtn)\n",
    "\n",
    "dt_mtn = datetime.datetime.now()\n",
    "\n",
    "mtn_tz = pytz.timezone('US/Mountain')\n",
    "dt_mtn = mtn_tz.localize(dt_mtn)\n",
    "\n",
    "print(dt_mtn)\n",
    "\n",
    "dt_east = dt_mtn.astimezone(pytz.timezone('US/Eastern'))\n",
    "print(dt_east)\n",
    "\n",
    "print(dt_mtn.strftime('%B %d, %Y'))\n",
    "\n",
    "dt_str = 'July 1, 2021'\n",
    "dt = datetime.datetime.strptime(dt_str, '%B %d, %Y')\n",
    "print(dt)\n",
    "\n",
    "strftime - Datetime to String\n",
    "strptime - String to Datetime"
   ],
   "outputs": [
    {
     "output_type": "stream",
     "name": "stdout",
     "text": [
      "283\n"
     ]
    }
   ],
   "metadata": {}
  }
 ],
 "metadata": {
  "orig_nbformat": 4,
  "language_info": {
   "name": "python",
   "version": "3.8.2",
   "mimetype": "text/x-python",
   "codemirror_mode": {
    "name": "ipython",
    "version": 3
   },
   "pygments_lexer": "ipython3",
   "nbconvert_exporter": "python",
   "file_extension": ".py"
  },
  "kernelspec": {
   "name": "python3",
   "display_name": "Python 3.8.2 64-bit"
  },
  "interpreter": {
   "hash": "31f2aee4e71d21fbe5cf8b01ff0e069b9275f58929596ceb00d14d90e3e16cd6"
  }
 },
 "nbformat": 4,
 "nbformat_minor": 2
}