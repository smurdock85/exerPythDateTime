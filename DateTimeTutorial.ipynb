{
 "cells": [
  {
   "cell_type": "code",
   "execution_count": null,
   "source": [
    "import datetime\n",
    "import pytz\n",
    "\n",
    "tday = datetime.date.today()\n",
    "\n",
    "datetime.timedelta(days=0, seconds=0, microseconds=0, milliseconds=0, minutes=0, hours=0, weeks=0)\n",
    "\n",
    "tdelta = datetime.timedelta(hours=12)\n",
    "\n",
    "print(tday + tdelta)"
   ],
   "outputs": [],
   "metadata": {}
  },
  {
   "cell_type": "code",
   "execution_count": null,
   "source": [
    "date2 = date1 + timedelta\n",
    "imedelta = date1 + date2\n",
    "\n",
    "bday = datetime.date(2021, 7, 1)\n",
    "\n",
    "till_bday = bday - tday\n",
    "\n",
    "print(till_bday.days)"
   ],
   "outputs": [],
   "metadata": {}
  },
  {
   "cell_type": "code",
   "execution_count": null,
   "source": [
    "t = datetime.time(9, 30, 45, 100000)\n",
    "\n",
    "dt = datetime.datetime.today()\n",
    "dtnow = datetime.datetime.now()\n",
    "print(dir(datetime.datetime))\n",
    "print(dt)\n",
    "print(dtnow)\n",
    "\n",
    "dt = datetime.datetime(2021, 7, 1, 12, 30, 45, tzinfo=pytz.UTC)\n",
    "print(dir(dt))\n",
    "\n",
    "dt_utcnow = datetime.datetime.now(tz=pytz.UTC)\n",
    "print(dt_utcnow)\n",
    "\n",
    "dt_utcnow2 = datetime.datetime.utcnow().replace(tzinfo=pytz.UTC)\n",
    "print(dt_utcnow2)\n",
    "\n",
    "dt_mtn = dt_utcnow.astimezone(pytz.timezone('US/Mountain'))\n",
    "print(dt_mtn)\n",
    "\n",
    "dt_mtn = datetime.datetime.now()\n",
    "\n",
    "mtn_tz = pytz.timezone('US/Mountain')\n",
    "dt_mtn = mtn_tz.localize(dt_mtn)\n",
    "\n",
    "print(dt_mtn)"
   ],
   "outputs": [],
   "metadata": {}
  },
  {
   "cell_type": "code",
   "execution_count": 3,
   "source": [
    "\n",
    "dt_east = dt_mtn.astimezone(pytz.timezone('US/Eastern'))\n",
    "print(dt_east)\n",
    "\n",
    "print(dt_mtn.strftime('%B %d, %Y'))\n",
    "\n",
    "dt_str = 'July 1, 2021'\n",
    "dt = datetime.datetime.strptime(dt_str, '%B %d, %Y')\n",
    "print(dt)\n",
    "\n",
    "strftime - Datetime to String\n",
    "strptime - String to Datetime"
   ],
   "outputs": [
    {
     "output_type": "error",
     "ename": "SyntaxError",
     "evalue": "invalid syntax (<ipython-input-3-389ff6699821>, line 57)",
     "traceback": [
      "\u001b[0;36m  File \u001b[0;32m\"<ipython-input-3-389ff6699821>\"\u001b[0;36m, line \u001b[0;32m57\u001b[0m\n\u001b[0;31m    strftime - Datetime to String\u001b[0m\n\u001b[0m                        ^\u001b[0m\n\u001b[0;31mSyntaxError\u001b[0m\u001b[0;31m:\u001b[0m invalid syntax\n"
     ]
    }
   ],
   "metadata": {}
  }
 ],
 "metadata": {
  "orig_nbformat": 4,
  "language_info": {
   "name": "python",
   "version": "3.8.8",
   "mimetype": "text/x-python",
   "codemirror_mode": {
    "name": "ipython",
    "version": 3
   },
   "pygments_lexer": "ipython3",
   "nbconvert_exporter": "python",
   "file_extension": ".py"
  },
  "kernelspec": {
   "name": "python3",
   "display_name": "Python 3.8.8 64-bit ('base': conda)"
  },
  "interpreter": {
   "hash": "77d8551fb9cf59cc84e7f8ee2c524f094c81881df7966ae554497510c52b5d47"
  }
 },
 "nbformat": 4,
 "nbformat_minor": 2
}